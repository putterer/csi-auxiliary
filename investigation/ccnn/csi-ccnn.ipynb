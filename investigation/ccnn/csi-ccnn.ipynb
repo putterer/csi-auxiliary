{
  "nbformat": 4,
  "nbformat_minor": 0,
  "metadata": {
    "accelerator": "GPU",
    "colab": {
      "name": "csi-ccnn.ipynb",
      "provenance": [],
      "collapsed_sections": [
        "MvS0m-qsrhOp"
      ]
    },
    "kernelspec": {
      "display_name": "csi-cnn-venv",
      "language": "python",
      "name": "csi-cnn-venv"
    },
    "language_info": {
      "codemirror_mode": {
        "name": "ipython",
        "version": 3
      },
      "file_extension": ".py",
      "mimetype": "text/x-python",
      "name": "python",
      "nbconvert_exporter": "python",
      "pygments_lexer": "ipython3",
      "version": "3.9.7"
    }
  },
  "cells": [
    {
      "cell_type": "code",
      "metadata": {
        "id": "koJKcxGvrhN-"
      },
      "source": [
        "import json\n",
        "import random\n",
        "import numpy as np\n",
        "from matplotlib import pyplot as plt\n",
        "\n",
        "import tensorflow.keras as keras\n",
        "from tensorflow.keras.models import Sequential \n",
        "from tensorflow.keras.layers import Dense, Dropout, Flatten \n",
        "from tensorflow.keras.layers import Conv2D, MaxPooling2D \n",
        "\n",
        "from tensorflow.keras.utils import to_categorical\n",
        "\n",
        "from keras import backend"
      ],
      "execution_count": 1,
      "outputs": []
    },
    {
      "cell_type": "markdown",
      "metadata": {
        "id": "m4MR4NRQrhON"
      },
      "source": [
        "## Load and parse data"
      ]
    },
    {
      "cell_type": "code",
      "metadata": {
        "id": "uITBxGxirhOR"
      },
      "source": [
        "#samples_files = [\"2021-09-24-train.samples\", \"2021-09-24-val.samples\", \"2021-09-24-test.samples\"]\n",
        "samples_files = [\"2021-10-27_train-sitting-standing.samples\", \"2021-10-27_val-sitting-standing.samples\", \"2021-10-27_test-sitting-standing.samples\"]\n",
        "#samples_files = [\"/content/drive/MyDrive/data/\" + f for f in samples_files]\n",
        "all_samples_by_file = []\n",
        "\n",
        "for samples_file in samples_files:\n",
        "    all_samples = []\n",
        "    with open(samples_file, \"r\") as file:\n",
        "        for line in file.readlines():\n",
        "            sample = json.loads(line)\n",
        "            all_samples.append(sample)\n",
        "    \n",
        "    all_samples_by_file.append(all_samples)\n",
        "\n",
        "stations = {next(iter(sample.keys())) for sample in all_samples_by_file[0]}"
      ],
      "execution_count": 2,
      "outputs": []
    },
    {
      "cell_type": "code",
      "metadata": {
        "id": "unHS1flGrhOT"
      },
      "source": [
        "samples_by_station = {}\n",
        "for station in stations:\n",
        "    samples_by_station[station] = []\n",
        "    for f in all_samples_by_file:\n",
        "        samples_in_file_for_this_station = []\n",
        "        for sample in f:\n",
        "            if sample[station]:\n",
        "                samples_in_file_for_this_station.append(sample[station])\n",
        "        samples_by_station[station].append(samples_in_file_for_this_station)"
      ],
      "execution_count": 3,
      "outputs": []
    },
    {
      "cell_type": "code",
      "metadata": {
        "id": "ZQfTemeerhOV",
        "scrolled": true
      },
      "source": [
        "selected_station = next(iter(stations))\n",
        "# selected_station = \"...\"\n",
        "\n",
        "samples = samples_by_station[selected_station] # list of datasets"
      ],
      "execution_count": 4,
      "outputs": []
    },
    {
      "cell_type": "markdown",
      "metadata": {
        "id": "tKXupBTFrhOX"
      },
      "source": [
        "## Prepare data"
      ]
    },
    {
      "cell_type": "markdown",
      "metadata": {
        "id": "HX8ZjxpjrhOY"
      },
      "source": [
        "#### Configuration"
      ]
    },
    {
      "cell_type": "code",
      "metadata": {
        "colab": {
          "base_uri": "https://localhost:8080/"
        },
        "id": "iX_hj7HMrhOa",
        "outputId": "f9ed865f-f2e6-47d3-d051-6abd5583ca9f"
      },
      "source": [
        "subcarriers = len(samples[0][0][\"angles\"])\n",
        "discretized_steps = 72  # -> 5° interval\n",
        "input_shape = (subcarriers, discretized_steps, 1)\n",
        "val_pct = 0.2\n",
        "test_pct = 0.2\n",
        "class_count = max([int(sample[\"cl\"]) for sample in samples[0]])\n",
        "\n",
        "use_dists = True\n",
        "data_layers = 2 if use_dists else 1\n",
        "\n",
        "if samples[0][0][\"angles3\"] is not None:\n",
        "    use_multiple_antennas = True\n",
        "    print(\"Using 3 TX antennas\")\n",
        "    data_layers *= 3\n",
        "\n",
        "print(f\"Subcarriers {subcarriers}\")\n",
        "print(f\"Step Interval:{360/discretized_steps}°, {np.pi * 2.0 / 36} rad\")\n",
        "\n",
        "print(f\"Sample size: {subcarriers}x{discretized_steps}x{data_layers}\")\n",
        "print(f\"Classes: {class_count}\")"
      ],
      "execution_count": 5,
      "outputs": [
        {
          "output_type": "stream",
          "name": "stdout",
          "text": [
            "Using 3 TX antennas\n",
            "Subcarriers 55\n",
            "Step Interval:5.0°, 0.17453292519943295 rad\n",
            "Sample size: 55x72x6\n",
            "Classes: 2\n"
          ]
        }
      ]
    },
    {
      "cell_type": "code",
      "metadata": {
        "colab": {
          "base_uri": "https://localhost:8080/",
          "height": 282
        },
        "id": "O_2WSbSRrhOd",
        "scrolled": true,
        "outputId": "8a7cc8ce-9b14-467d-cbfb-27b461c57ac2"
      },
      "source": [
        "import matplotlib.pyplot as plt\n",
        "\n",
        "s = []\n",
        "\n",
        "sample = samples[0][80] \n",
        "for subcarrier in range(subcarriers):\n",
        "    s.append(sample[\"angles\"][subcarrier])\n",
        "\n",
        "plt.plot(s)"
      ],
      "execution_count": 6,
      "outputs": [
        {
          "output_type": "execute_result",
          "data": {
            "text/plain": [
              "[<matplotlib.lines.Line2D at 0x7f0e4d26a490>]"
            ]
          },
          "metadata": {},
          "execution_count": 6
        },
        {
          "output_type": "display_data",
          "data": {
            "image/png": "[encoded data removed]",
            "text/plain": [
              "<Figure size 432x288 with 1 Axes>"
            ]
          },
          "metadata": {
            "needs_background": "light"
          }
        }
      ]
    },
    {
      "cell_type": "code",
      "metadata": {
        "id": "2Ma3uKEWrhOf"
      },
      "source": [
        "def load_data(samples):    \n",
        "    shuffled_samples = samples.copy()\n",
        "    random.shuffle(shuffled_samples)\n",
        "    \n",
        "    x_samples = []\n",
        "    y_samples = []\n",
        "\n",
        "    for sample in shuffled_samples:\n",
        "        y_sample = sample[\"cl\"]\n",
        "        x_sample = np.zeros((subcarriers, discretized_steps, data_layers), dtype=\"float32\")\n",
        "    \n",
        "        for subcarrier in range(subcarriers):\n",
        "            offset_per_antenna = 2 if use_dists else 1\n",
        "            \n",
        "            for tx_antenna in range(3 if use_multiple_antennas else 1):\n",
        "                antenna_suffix = \"\" if tx_antenna == 0 else str(tx_antenna+1)\n",
        "                \n",
        "                angle_value = np.floor(sample[\"angles\" + antenna_suffix][subcarrier] / (2.0*np.pi) * discretized_steps)\n",
        "                x_sample[subcarrier][int(angle_value)][(tx_antenna * offset_per_antenna) + 0] = 1.0\n",
        "                \n",
        "                if use_dists:\n",
        "                    dist_value = min(len(x_sample[subcarrier])-1, np.floor(sample[\"dists\" + antenna_suffix][subcarrier] / (2000.0) * discretized_steps))\n",
        "                    x_sample[subcarrier][int(dist_value)][(tx_antenna * offset_per_antenna) + 1] = 1.0\n",
        "    \n",
        "        x_sample.reshape((x_sample.shape[0], x_sample.shape[1], data_layers))\n",
        "    \n",
        "        x_samples.append(x_sample)\n",
        "        y_samples.append(y_sample)\n",
        "\n",
        "    y_samples = to_categorical(np.array(y_samples) - 1, class_count)\n",
        "    \n",
        "    return x_samples, y_samples"
      ],
      "execution_count": 7,
      "outputs": []
    },
    {
      "cell_type": "code",
      "metadata": {
        "colab": {
          "base_uri": "https://localhost:8080/"
        },
        "id": "Gcvs8bgYrhOh",
        "outputId": "45ef5364-e6a9-44fb-ecd5-5273cbdda44d"
      },
      "source": [
        "if len(samples) == 1:\n",
        "    \n",
        "    x_samples, y_samples = load_data(samples[0])\n",
        "\n",
        "    sample_count = len(y_samples)\n",
        "    test_sample_count = int(test_pct * sample_count)\n",
        "    val_sample_count = int(val_pct * sample_count)\n",
        "    train_sample_count = sample_count - test_sample_count - val_sample_count\n",
        "\n",
        "    print(f\"{sample_count} samples, {train_sample_count} train, {val_sample_count} validation, {test_sample_count} test\")\n",
        "    \n",
        "    x_train = x_samples[0:train_sample_count]\n",
        "    y_train = y_samples[0:train_sample_count]\n",
        "    x_val = x_samples[train_sample_count:(train_sample_count+val_sample_count)]\n",
        "    y_val = y_samples[train_sample_count:(train_sample_count+val_sample_count)]\n",
        "    x_test = x_samples[(train_sample_count+val_sample_count):sample_count]\n",
        "    y_test = y_samples[(train_sample_count+val_sample_count):sample_count]\n",
        "\n",
        "    if backend.image_data_format() == 'channels_first':\n",
        "        x_train = np.array(x_train).reshape(train_sample_count, 1, subcarriers, discretized_steps)\n",
        "        x_val = np.array(x_val).reshape(val_sample_count, 1, subcarriers, discretized_steps)\n",
        "        x_test = np.array(x_test).reshape(test_sample_count, 1, subcarriers, discretized_steps)\n",
        "    else:\n",
        "        x_train = np.array(x_train).reshape(train_sample_count, subcarriers, discretized_steps, 1)\n",
        "        x_val = np.array(x_val).reshape(val_sample_count, subcarriers, discretized_steps, 1)\n",
        "        x_test = np.array(x_test).reshape(test_sample_count, subcarriers, discretized_steps, 1)\n",
        "elif len(samples) == 2:\n",
        "    train_samples = samples[0]\n",
        "    test_samples = samples[1]\n",
        "    \n",
        "    # split validation off of train\n",
        "    #x_train_val, y_train_val = load_data(train_samples)\n",
        "    #x_test, y_test = load_data(test_samples)\n",
        "    \n",
        "    #train_val_count = len(train_samples)\n",
        "    #test_sample_count = len(test_samples)\n",
        "    #val_sample_count = int(val_pct * train_val_count)\n",
        "    #train_sample_count = train_val_count - val_sample_count\n",
        "    \n",
        "    #x_train = x_train_val[0:train_sample_count]\n",
        "    #y_train = y_train_val[0:train_sample_count]\n",
        "    #x_val = x_train_val[train_sample_count:(train_sample_count+val_sample_count)]\n",
        "    #y_val = y_train_val[train_sample_count:(train_sample_count+val_sample_count)]\n",
        "\n",
        "    # split validation off of test\n",
        "    x_train, y_train = load_data(train_samples)\n",
        "    x_test_val, y_test_val = load_data(test_samples)\n",
        "    \n",
        "    train_count = len(train_samples)\n",
        "    test_val_count = len(test_samples)\n",
        "    val_sample_count = int(0.5 * test_val_count)\n",
        "    test_sample_count = test_val_count - val_sample_count\n",
        "    train_sample_count = train_count\n",
        "    \n",
        "    x_val = x_test_val[test_sample_count:(test_sample_count+val_sample_count)]\n",
        "    y_val = y_test_val[test_sample_count:(test_sample_count+val_sample_count)]\n",
        "    x_test = x_test_val[0:test_sample_count]\n",
        "    y_test = y_test_val[0:test_sample_count]\n",
        "    \n",
        "    print(f\"{len(train_samples)+len(test_samples)} samples, {train_sample_count} train, {val_sample_count} validation, {test_sample_count} test\")\n",
        "    \n",
        "    if backend.image_data_format() == 'channels_first':\n",
        "        x_train = np.array(x_train).reshape(train_sample_count, data_layers, subcarriers, discretized_steps)\n",
        "        x_val = np.array(x_val).reshape(val_sample_count, data_layers, subcarriers, discretized_steps)\n",
        "        x_test = np.array(x_test).reshape(test_sample_count, data_layers, subcarriers, discretized_steps)\n",
        "    else:\n",
        "        x_train = np.array(x_train).reshape(train_sample_count, subcarriers, discretized_steps, data_layers)\n",
        "        x_val = np.array(x_val).reshape(val_sample_count, subcarriers, discretized_steps, data_layers)\n",
        "        x_test = np.array(x_test).reshape(test_sample_count, subcarriers, discretized_steps, data_layers)\n",
        "elif len(samples) == 3:\n",
        "    train_samples = samples[0]\n",
        "    val_samples = samples[1]\n",
        "    test_samples = samples[2]\n",
        "    \n",
        "    # split validation off of train\n",
        "    #x_train_val, y_train_val = load_data(train_samples)\n",
        "    #x_test, y_test = load_data(test_samples)\n",
        "    \n",
        "    #train_val_count = len(train_samples)\n",
        "    #test_sample_count = len(test_samples)\n",
        "    #val_sample_count = int(val_pct * train_val_count)\n",
        "    #train_sample_count = train_val_count - val_sample_count\n",
        "    \n",
        "    #x_train = x_train_val[0:train_sample_count]\n",
        "    #y_train = y_train_val[0:train_sample_count]\n",
        "    #x_val = x_train_val[train_sample_count:(train_sample_count+val_sample_count)]\n",
        "    #y_val = y_train_val[train_sample_count:(train_sample_count+val_sample_count)]\n",
        "\n",
        "    # split validation off of test\n",
        "    x_train, y_train = load_data(train_samples)\n",
        "    x_val, y_val = load_data(val_samples)\n",
        "    x_test, y_test = load_data(test_samples)\n",
        "    \n",
        "    train_count = len(train_samples)\n",
        "    val_count = len(val_samples)\n",
        "    test_count = len(test_samples)\n",
        "    val_sample_count = val_count\n",
        "    test_sample_count = test_count\n",
        "    train_sample_count = train_count\n",
        "    \n",
        "    #x_val = x_test_val[test_sample_count:(test_sample_count+val_sample_count)]\n",
        "    #y_val = y_test_val[test_sample_count:(test_sample_count+val_sample_count)]\n",
        "    #x_test = x_test_val[0:test_sample_count]\n",
        "    #y_test = y_test_val[0:test_sample_count]\n",
        "    \n",
        "    print(f\"{len(train_samples)+len(test_samples)} samples, {train_sample_count} train, {val_sample_count} validation, {test_sample_count} test\")\n",
        "    \n",
        "    if backend.image_data_format() == 'channels_first':\n",
        "        x_train = np.array(x_train).reshape(train_sample_count, data_layers, subcarriers, discretized_steps)\n",
        "        x_val = np.array(x_val).reshape(val_sample_count, data_layers, subcarriers, discretized_steps)\n",
        "        x_test = np.array(x_test).reshape(test_sample_count, data_layers, subcarriers, discretized_steps)\n",
        "    else:\n",
        "        x_train = np.array(x_train).reshape(train_sample_count, subcarriers, discretized_steps, data_layers)\n",
        "        x_val = np.array(x_val).reshape(val_sample_count, subcarriers, discretized_steps, data_layers)\n",
        "        x_test = np.array(x_test).reshape(test_sample_count, subcarriers, discretized_steps, data_layers)"
      ],
      "execution_count": 8,
      "outputs": [
        {
          "output_type": "stream",
          "name": "stdout",
          "text": [
            "600 samples, 400 train, 200 validation, 200 test\n"
          ]
        }
      ]
    },
    {
      "cell_type": "code",
      "metadata": {
        "id": "_FwXVq9zrhOj"
      },
      "source": [
        "#x_train = x_train[0:1]\n",
        "#x_val = x_val[0:1]\n",
        "#x_test = x_test[0:1]\n",
        "#y_train = y_train[0:1]\n",
        "#y_val = y_val[0:1]\n",
        "#y_test = y_test[0:1]"
      ],
      "execution_count": 9,
      "outputs": []
    },
    {
      "cell_type": "markdown",
      "metadata": {
        "id": "ePHcUODTrhOk"
      },
      "source": [
        "## Model"
      ]
    },
    {
      "cell_type": "code",
      "metadata": {
        "colab": {
          "base_uri": "https://localhost:8080/"
        },
        "id": "jiglQ0nnsuTB",
        "outputId": "84df35fb-c63d-4a58-fdac-8c0cab918fe9"
      },
      "source": [
        "import tensorflow as tf\n",
        "tf.config.list_physical_devices('GPU')"
      ],
      "execution_count": 19,
      "outputs": [
        {
          "output_type": "execute_result",
          "data": {
            "text/plain": [
              "[PhysicalDevice(name='/physical_device:GPU:0', device_type='GPU')]"
            ]
          },
          "metadata": {},
          "execution_count": 19
        }
      ]
    },
    {
      "cell_type": "code",
      "metadata": {
        "id": "6OkpoLg3rhOl",
        "scrolled": false
      },
      "source": [
        "from csi_models import SimpleSequentialModel\n",
        "\n",
        "model = SimpleSequentialModel(use_batchnorm=False, class_count=class_count, input_shape=input_shape)"
      ],
      "execution_count": 20,
      "outputs": []
    },
    {
      "cell_type": "code",
      "metadata": {
        "id": "AeV4uDkVrhOm",
        "colab": {
          "base_uri": "https://localhost:8080/"
        },
        "outputId": "47070743-b72e-4094-e22a-9fe3eb6e4a61"
      },
      "source": [
        "model.compile(loss = keras.losses.categorical_crossentropy, \n",
        "   optimizer = keras.optimizers.Adadelta(), metrics = ['accuracy'])\n",
        "model.build(x_train.shape)\n",
        "model.summary()"
      ],
      "execution_count": 21,
      "outputs": [
        {
          "output_type": "stream",
          "name": "stdout",
          "text": [
            "Model: \"simple_sequential_model_2\"\n",
            "_________________________________________________________________\n",
            "Layer (type)                 Output Shape              Param #   \n",
            "=================================================================\n",
            "conv2d_6 (Conv2D)            multiple                  4720      \n",
            "_________________________________________________________________\n",
            "conv2d_7 (Conv2D)            multiple                  12832     \n",
            "_________________________________________________________________\n",
            "conv2d_8 (Conv2D)            multiple                  4624      \n",
            "_________________________________________________________________\n",
            "max_pooling2d_2 (MaxPooling2 multiple                  0         \n",
            "_________________________________________________________________\n",
            "dropout_4 (Dropout)          multiple                  0         \n",
            "_________________________________________________________________\n",
            "flatten_2 (Flatten)          multiple                  0         \n",
            "_________________________________________________________________\n",
            "dense_4 (Dense)              multiple                  573568    \n",
            "_________________________________________________________________\n",
            "batch_normalization_2 (Batch multiple                  0 (unused)\n",
            "_________________________________________________________________\n",
            "re_lu_2 (ReLU)               multiple                  0         \n",
            "_________________________________________________________________\n",
            "dropout_5 (Dropout)          multiple                  0         \n",
            "_________________________________________________________________\n",
            "dense_5 (Dense)              multiple                  258       \n",
            "=================================================================\n",
            "Total params: 596,002\n",
            "Trainable params: 596,002\n",
            "Non-trainable params: 0\n",
            "_________________________________________________________________\n"
          ]
        }
      ]
    },
    {
      "cell_type": "code",
      "metadata": {
        "colab": {
          "base_uri": "https://localhost:8080/"
        },
        "id": "5qeqqxuXrhOn",
        "scrolled": false,
        "outputId": "3fa0cf69-0015-49aa-be29-99e58d1e873d"
      },
      "source": [
        "backend.set_value(model.optimizer.learning_rate, 0.02)\n",
        "\n",
        "history = model.fit(\n",
        "   x_train, y_train, \n",
        "   batch_size = 512, \n",
        "   epochs = 60,\n",
        "   verbose = 1, \n",
        "   validation_data = (x_val, y_val)\n",
        ")"
      ],
      "execution_count": 22,
      "outputs": [
        {
          "output_type": "stream",
          "name": "stdout",
          "text": [
            "Epoch 1/60\n",
            "1/1 [==============================] - 1s 1s/step - loss: 0.6781 - accuracy: 0.5825 - val_loss: 0.6835 - val_accuracy: 0.7600\n",
            "Epoch 2/60\n",
            "1/1 [==============================] - 0s 223ms/step - loss: 0.6777 - accuracy: 0.5850 - val_loss: 0.6828 - val_accuracy: 0.7750\n",
            "Epoch 3/60\n",
            "1/1 [==============================] - 0s 203ms/step - loss: 0.6671 - accuracy: 0.6725 - val_loss: 0.6820 - val_accuracy: 0.7850\n",
            "Epoch 4/60\n",
            "1/1 [==============================] - 0s 195ms/step - loss: 0.6736 - accuracy: 0.6125 - val_loss: 0.6813 - val_accuracy: 0.7900\n",
            "Epoch 5/60\n",
            "1/1 [==============================] - 0s 202ms/step - loss: 0.6670 - accuracy: 0.6400 - val_loss: 0.6805 - val_accuracy: 0.7950\n",
            "Epoch 6/60\n",
            "1/1 [==============================] - 0s 209ms/step - loss: 0.6685 - accuracy: 0.6275 - val_loss: 0.6798 - val_accuracy: 0.8000\n",
            "Epoch 7/60\n",
            "1/1 [==============================] - 0s 229ms/step - loss: 0.6629 - accuracy: 0.6875 - val_loss: 0.6790 - val_accuracy: 0.8150\n",
            "Epoch 8/60\n",
            "1/1 [==============================] - 0s 197ms/step - loss: 0.6636 - accuracy: 0.6625 - val_loss: 0.6783 - val_accuracy: 0.8300\n",
            "Epoch 9/60\n",
            "1/1 [==============================] - 0s 202ms/step - loss: 0.6568 - accuracy: 0.6650 - val_loss: 0.6775 - val_accuracy: 0.8300\n",
            "Epoch 10/60\n",
            "1/1 [==============================] - 0s 197ms/step - loss: 0.6539 - accuracy: 0.6900 - val_loss: 0.6768 - val_accuracy: 0.8250\n",
            "Epoch 11/60\n",
            "1/1 [==============================] - 0s 207ms/step - loss: 0.6529 - accuracy: 0.6900 - val_loss: 0.6760 - val_accuracy: 0.8250\n",
            "Epoch 12/60\n",
            "1/1 [==============================] - 0s 205ms/step - loss: 0.6518 - accuracy: 0.7200 - val_loss: 0.6753 - val_accuracy: 0.8250\n",
            "Epoch 13/60\n",
            "1/1 [==============================] - 0s 208ms/step - loss: 0.6519 - accuracy: 0.7250 - val_loss: 0.6746 - val_accuracy: 0.8150\n",
            "Epoch 14/60\n",
            "1/1 [==============================] - 0s 199ms/step - loss: 0.6468 - accuracy: 0.7375 - val_loss: 0.6738 - val_accuracy: 0.8200\n",
            "Epoch 15/60\n",
            "1/1 [==============================] - 0s 206ms/step - loss: 0.6445 - accuracy: 0.7525 - val_loss: 0.6731 - val_accuracy: 0.8150\n",
            "Epoch 16/60\n",
            "1/1 [==============================] - 0s 204ms/step - loss: 0.6399 - accuracy: 0.7425 - val_loss: 0.6724 - val_accuracy: 0.8250\n",
            "Epoch 17/60\n",
            "1/1 [==============================] - 0s 234ms/step - loss: 0.6388 - accuracy: 0.7725 - val_loss: 0.6716 - val_accuracy: 0.8350\n",
            "Epoch 18/60\n",
            "1/1 [==============================] - 0s 201ms/step - loss: 0.6342 - accuracy: 0.7725 - val_loss: 0.6708 - val_accuracy: 0.8350\n",
            "Epoch 19/60\n",
            "1/1 [==============================] - 0s 199ms/step - loss: 0.6320 - accuracy: 0.7875 - val_loss: 0.6699 - val_accuracy: 0.8300\n",
            "Epoch 20/60\n",
            "1/1 [==============================] - 0s 214ms/step - loss: 0.6358 - accuracy: 0.7600 - val_loss: 0.6691 - val_accuracy: 0.8350\n",
            "Epoch 21/60\n",
            "1/1 [==============================] - 0s 202ms/step - loss: 0.6324 - accuracy: 0.7950 - val_loss: 0.6682 - val_accuracy: 0.8400\n",
            "Epoch 22/60\n",
            "1/1 [==============================] - 0s 202ms/step - loss: 0.6237 - accuracy: 0.7725 - val_loss: 0.6674 - val_accuracy: 0.8500\n",
            "Epoch 23/60\n",
            "1/1 [==============================] - 0s 202ms/step - loss: 0.6236 - accuracy: 0.8025 - val_loss: 0.6665 - val_accuracy: 0.8500\n",
            "Epoch 24/60\n",
            "1/1 [==============================] - 0s 204ms/step - loss: 0.6225 - accuracy: 0.8000 - val_loss: 0.6656 - val_accuracy: 0.8500\n",
            "Epoch 25/60\n",
            "1/1 [==============================] - 0s 202ms/step - loss: 0.6144 - accuracy: 0.8300 - val_loss: 0.6646 - val_accuracy: 0.8500\n",
            "Epoch 26/60\n",
            "1/1 [==============================] - 0s 209ms/step - loss: 0.6128 - accuracy: 0.8025 - val_loss: 0.6637 - val_accuracy: 0.8500\n",
            "Epoch 27/60\n",
            "1/1 [==============================] - 0s 235ms/step - loss: 0.6057 - accuracy: 0.8700 - val_loss: 0.6627 - val_accuracy: 0.8500\n",
            "Epoch 28/60\n",
            "1/1 [==============================] - 0s 205ms/step - loss: 0.6034 - accuracy: 0.8500 - val_loss: 0.6616 - val_accuracy: 0.8500\n",
            "Epoch 29/60\n",
            "1/1 [==============================] - 0s 210ms/step - loss: 0.5994 - accuracy: 0.8500 - val_loss: 0.6605 - val_accuracy: 0.8600\n",
            "Epoch 30/60\n",
            "1/1 [==============================] - 0s 207ms/step - loss: 0.5970 - accuracy: 0.8450 - val_loss: 0.6594 - val_accuracy: 0.8550\n",
            "Epoch 31/60\n",
            "1/1 [==============================] - 0s 209ms/step - loss: 0.5963 - accuracy: 0.8525 - val_loss: 0.6581 - val_accuracy: 0.8550\n",
            "Epoch 32/60\n",
            "1/1 [==============================] - 0s 199ms/step - loss: 0.5899 - accuracy: 0.8700 - val_loss: 0.6569 - val_accuracy: 0.8550\n",
            "Epoch 33/60\n",
            "1/1 [==============================] - 0s 205ms/step - loss: 0.5832 - accuracy: 0.8750 - val_loss: 0.6556 - val_accuracy: 0.8600\n",
            "Epoch 34/60\n",
            "1/1 [==============================] - 0s 202ms/step - loss: 0.5811 - accuracy: 0.8825 - val_loss: 0.6542 - val_accuracy: 0.8550\n",
            "Epoch 35/60\n",
            "1/1 [==============================] - 0s 205ms/step - loss: 0.5742 - accuracy: 0.8625 - val_loss: 0.6528 - val_accuracy: 0.8550\n",
            "Epoch 36/60\n",
            "1/1 [==============================] - 0s 200ms/step - loss: 0.5740 - accuracy: 0.8775 - val_loss: 0.6514 - val_accuracy: 0.8650\n",
            "Epoch 37/60\n",
            "1/1 [==============================] - 0s 207ms/step - loss: 0.5620 - accuracy: 0.9000 - val_loss: 0.6499 - val_accuracy: 0.8650\n",
            "Epoch 38/60\n",
            "1/1 [==============================] - 0s 205ms/step - loss: 0.5690 - accuracy: 0.8875 - val_loss: 0.6484 - val_accuracy: 0.8700\n",
            "Epoch 39/60\n",
            "1/1 [==============================] - 0s 205ms/step - loss: 0.5625 - accuracy: 0.8950 - val_loss: 0.6467 - val_accuracy: 0.8750\n",
            "Epoch 40/60\n",
            "1/1 [==============================] - 0s 209ms/step - loss: 0.5511 - accuracy: 0.8975 - val_loss: 0.6451 - val_accuracy: 0.8700\n",
            "Epoch 41/60\n",
            "1/1 [==============================] - 0s 202ms/step - loss: 0.5560 - accuracy: 0.8725 - val_loss: 0.6434 - val_accuracy: 0.8650\n",
            "Epoch 42/60\n",
            "1/1 [==============================] - 0s 200ms/step - loss: 0.5541 - accuracy: 0.9050 - val_loss: 0.6416 - val_accuracy: 0.8750\n",
            "Epoch 43/60\n",
            "1/1 [==============================] - 0s 206ms/step - loss: 0.5430 - accuracy: 0.9050 - val_loss: 0.6398 - val_accuracy: 0.8700\n",
            "Epoch 44/60\n",
            "1/1 [==============================] - 0s 228ms/step - loss: 0.5382 - accuracy: 0.9025 - val_loss: 0.6379 - val_accuracy: 0.8650\n",
            "Epoch 45/60\n",
            "1/1 [==============================] - 0s 209ms/step - loss: 0.5265 - accuracy: 0.9175 - val_loss: 0.6360 - val_accuracy: 0.8700\n",
            "Epoch 46/60\n",
            "1/1 [==============================] - 0s 203ms/step - loss: 0.5298 - accuracy: 0.8925 - val_loss: 0.6341 - val_accuracy: 0.8750\n",
            "Epoch 47/60\n",
            "1/1 [==============================] - 0s 200ms/step - loss: 0.5170 - accuracy: 0.9175 - val_loss: 0.6320 - val_accuracy: 0.8750\n",
            "Epoch 48/60\n",
            "1/1 [==============================] - 0s 201ms/step - loss: 0.5280 - accuracy: 0.9200 - val_loss: 0.6299 - val_accuracy: 0.8650\n",
            "Epoch 49/60\n",
            "1/1 [==============================] - 0s 204ms/step - loss: 0.5098 - accuracy: 0.9200 - val_loss: 0.6276 - val_accuracy: 0.8650\n",
            "Epoch 50/60\n",
            "1/1 [==============================] - 0s 204ms/step - loss: 0.5010 - accuracy: 0.9250 - val_loss: 0.6254 - val_accuracy: 0.8700\n",
            "Epoch 51/60\n",
            "1/1 [==============================] - 0s 210ms/step - loss: 0.4865 - accuracy: 0.9375 - val_loss: 0.6229 - val_accuracy: 0.8650\n",
            "Epoch 52/60\n",
            "1/1 [==============================] - 0s 203ms/step - loss: 0.4893 - accuracy: 0.9400 - val_loss: 0.6205 - val_accuracy: 0.8600\n",
            "Epoch 53/60\n",
            "1/1 [==============================] - 0s 197ms/step - loss: 0.4763 - accuracy: 0.9375 - val_loss: 0.6180 - val_accuracy: 0.8700\n",
            "Epoch 54/60\n",
            "1/1 [==============================] - 0s 203ms/step - loss: 0.4732 - accuracy: 0.9425 - val_loss: 0.6153 - val_accuracy: 0.8600\n",
            "Epoch 55/60\n",
            "1/1 [==============================] - 0s 206ms/step - loss: 0.4662 - accuracy: 0.9425 - val_loss: 0.6126 - val_accuracy: 0.8700\n",
            "Epoch 56/60\n",
            "1/1 [==============================] - 0s 205ms/step - loss: 0.4641 - accuracy: 0.9350 - val_loss: 0.6100 - val_accuracy: 0.8600\n",
            "Epoch 57/60\n",
            "1/1 [==============================] - 0s 197ms/step - loss: 0.4575 - accuracy: 0.9275 - val_loss: 0.6072 - val_accuracy: 0.8600\n",
            "Epoch 58/60\n",
            "1/1 [==============================] - 0s 206ms/step - loss: 0.4520 - accuracy: 0.9425 - val_loss: 0.6041 - val_accuracy: 0.8600\n",
            "Epoch 59/60\n",
            "1/1 [==============================] - 0s 196ms/step - loss: 0.4465 - accuracy: 0.9425 - val_loss: 0.6013 - val_accuracy: 0.8550\n",
            "Epoch 60/60\n",
            "1/1 [==============================] - 0s 223ms/step - loss: 0.4375 - accuracy: 0.9350 - val_loss: 0.5981 - val_accuracy: 0.8550\n"
          ]
        }
      ]
    },
    {
      "cell_type": "code",
      "metadata": {
        "colab": {
          "base_uri": "https://localhost:8080/",
          "height": 541
        },
        "id": "KAf8cXm_XXci",
        "outputId": "6c689b3f-b794-49f1-e40a-7588b0ec5d1c"
      },
      "source": [
        "epochs = range(1, len(history.history['loss'])+1)\n",
        "\n",
        "plt.plot(epochs, history.history['loss'], label='Training Loss')\n",
        "plt.plot(epochs, history.history['val_loss'], label='Validation Loss')\n",
        "plt.xlabel('Epochs')\n",
        "plt.ylabel('Loss')\n",
        "plt.legend()\n",
        "\n",
        "plt.show()\n",
        "\n",
        "plt.plot(epochs, history.history['accuracy'], label='Training Accuracy')\n",
        "plt.plot(epochs, history.history['val_accuracy'], label='Validation Accuracy')\n",
        "plt.xlabel('Epochs')\n",
        "plt.ylabel('Loss')\n",
        "plt.legend()\n",
        "\n",
        "plt.show()"
      ],
      "execution_count": 23,
      "outputs": [
        {
          "output_type": "display_data",
          "data": {
            "image/png": "[encoded data removed]",
            "text/plain": [
              "<Figure size 432x288 with 1 Axes>"
            ]
          },
          "metadata": {
            "needs_background": "light"
          }
        },
        {
          "output_type": "display_data",
          "data": {
            "image/png": "[encoded data removed]",
            "text/plain": [
              "<Figure size 432x288 with 1 Axes>"
            ]
          },
          "metadata": {
            "needs_background": "light"
          }
        }
      ]
    },
    {
      "cell_type": "markdown",
      "metadata": {
        "id": "cjD0OfQLrhOn"
      },
      "source": [
        "## Test"
      ]
    },
    {
      "cell_type": "code",
      "metadata": {
        "colab": {
          "base_uri": "https://localhost:8080/"
        },
        "id": "zbW-_KZlrhOo",
        "outputId": "099678ed-867c-477c-fbdf-c875fbc4006a"
      },
      "source": [
        "score = model.evaluate(x_test, y_test, verbose = 0) \n",
        "\n",
        "print('Test loss:', score[0]) \n",
        "print('Test accuracy:', score[1])"
      ],
      "execution_count": 24,
      "outputs": [
        {
          "output_type": "stream",
          "name": "stdout",
          "text": [
            "Test loss: 0.638148844242096\n",
            "Test accuracy: 0.7549999952316284\n"
          ]
        }
      ]
    },
    {
      "cell_type": "markdown",
      "metadata": {
        "id": "MvS0m-qsrhOp"
      },
      "source": [
        "## Predict"
      ]
    },
    {
      "cell_type": "code",
      "metadata": {
        "colab": {
          "base_uri": "https://localhost:8080/"
        },
        "id": "LIr3t4fZrhOp",
        "outputId": "8a5d6bea-3258-4aa0-ec36-92124dbf5d39"
      },
      "source": [
        "pred = model.predict(x_test) \n",
        "pred = np.argmax(pred, axis = 1)[:30] \n",
        "label = np.argmax(y_test,axis = 1)[:30] \n",
        "\n",
        "print(pred) \n",
        "print(label)"
      ],
      "execution_count": 18,
      "outputs": [
        {
          "output_type": "stream",
          "name": "stdout",
          "text": [
            "[0 0 0 0 1 0 0 0 1 1 1 1 1 0 0 0 0 0 0 0 1 0 0 1 0 0 0 0 0 0]\n",
            "[0 0 1 1 1 0 0 0 1 1 1 1 1 0 0 0 1 1 1 1 1 1 0 1 0 0 1 0 1 1]\n"
          ]
        }
      ]
    },
    {
      "cell_type": "code",
      "metadata": {
        "colab": {
          "base_uri": "https://localhost:8080/"
        },
        "id": "PcznFaYcrhOq",
        "outputId": "2f8ca2ff-3cb9-4a36-b0d0-5cfb6529ef7c"
      },
      "source": [
        "pred = model.predict(x_test)\n",
        "pred = pred[:10] \n",
        "label = y_test[:10] \n",
        "\n",
        "print(np.round(pred, decimals = 3)) \n",
        "print(label)"
      ],
      "execution_count": null,
      "outputs": [
        {
          "name": "stdout",
          "output_type": "stream",
          "text": [
            "[[0.162 0.019 0.73  0.03  0.043 0.01  0.006]\n",
            " [0.202 0.098 0.183 0.078 0.119 0.203 0.117]\n",
            " [0.061 0.107 0.03  0.284 0.089 0.055 0.374]\n",
            " [0.329 0.075 0.034 0.271 0.248 0.017 0.025]\n",
            " [0.064 0.371 0.016 0.055 0.077 0.354 0.062]\n",
            " [0.063 0.056 0.086 0.577 0.125 0.018 0.074]\n",
            " [0.292 0.071 0.169 0.042 0.127 0.24  0.059]\n",
            " [0.124 0.071 0.027 0.516 0.187 0.038 0.038]\n",
            " [0.047 0.056 0.058 0.39  0.085 0.067 0.297]\n",
            " [0.112 0.044 0.041 0.379 0.35  0.03  0.044]]\n",
            "[[0. 0. 1. 0. 0. 0. 0.]\n",
            " [1. 0. 0. 0. 0. 0. 0.]\n",
            " [1. 0. 0. 0. 0. 0. 0.]\n",
            " [0. 0. 0. 0. 0. 0. 1.]\n",
            " [0. 1. 0. 0. 0. 0. 0.]\n",
            " [1. 0. 0. 0. 0. 0. 0.]\n",
            " [0. 0. 0. 0. 1. 0. 0.]\n",
            " [0. 1. 0. 0. 0. 0. 0.]\n",
            " [0. 0. 0. 0. 0. 0. 1.]\n",
            " [0. 0. 0. 1. 0. 0. 0.]]\n"
          ]
        }
      ]
    },
    {
      "cell_type": "code",
      "metadata": {
        "id": "bc-4mOkpQZrl"
      },
      "source": [
        ""
      ],
      "execution_count": null,
      "outputs": []
    }
  ]
}