{
  "nbformat": 4,
  "nbformat_minor": 0,
  "metadata": {
    "accelerator": "GPU",
    "colab": {
      "name": "csi-lstm.ipynb",
      "provenance": [],
      "collapsed_sections": []
    },
    "kernelspec": {
      "display_name": "csi-cnn-venv",
      "language": "python",
      "name": "csi-cnn-venv"
    },
    "language_info": {
      "codemirror_mode": {
        "name": "ipython",
        "version": 3
      },
      "file_extension": ".py",
      "mimetype": "text/x-python",
      "name": "python",
      "nbconvert_exporter": "python",
      "pygments_lexer": "ipython3",
      "version": "3.9.7"
    }
  },
  "cells": [
    {
      "cell_type": "code",
      "metadata": {
        "id": "koJKcxGvrhN-"
      },
      "source": [
        "import sys\n",
        "import json\n",
        "import random\n",
        "import numpy as np\n",
        "from matplotlib import pyplot as plt\n",
        "\n",
        "import tensorflow.keras as keras\n",
        "from tensorflow.keras.models import Sequential \n",
        "from tensorflow.keras.layers import Dense, Dropout, Flatten \n",
        "from tensorflow.keras.layers import Conv2D, MaxPooling2D \n",
        "\n",
        "from tensorflow.keras.utils import to_categorical\n",
        "\n",
        "from keras import backend"
      ],
      "execution_count": null,
      "outputs": []
    },
    {
      "cell_type": "code",
      "metadata": {
        "colab": {
          "base_uri": "https://localhost:8080/"
        },
        "id": "XOkiihnosyEV",
        "outputId": "133543ca-4c34-44a1-e829-ae0c6e78e4bd"
      },
      "source": [
        "from google.colab import drive\n",
        "drive.mount('/content/drive')"
      ],
      "execution_count": null,
      "outputs": [
        {
          "output_type": "stream",
          "name": "stdout",
          "text": [
            "Drive already mounted at /content/drive; to attempt to forcibly remount, call drive.mount(\"/content/drive\", force_remount=True).\n"
          ]
        }
      ]
    },
    {
      "cell_type": "markdown",
      "metadata": {
        "id": "m4MR4NRQrhON"
      },
      "source": [
        "## Load and parse data"
      ]
    },
    {
      "cell_type": "code",
      "metadata": {
        "id": "uITBxGxirhOR"
      },
      "source": [
        "#samples_files = [\"2021-11-09-standup-sitdown-stationary-waving-clapping-nodding-walking.samples\"]\n",
        "samples_files = [\"2021-11-26-stationary-standup-sitdown-waving-clapping-nodding-walking.samples\"]\n",
        "samples_files = [\"/content/drive/MyDrive/data/\" + f for f in samples_files]\n",
        "all_samples_by_file = []\n",
        "\n",
        "for samples_file in samples_files:\n",
        "    all_samples = []\n",
        "    with open(samples_file, \"r\") as file:\n",
        "        for line in file.readlines():\n",
        "            sample = json.loads(line)\n",
        "            all_samples.append(sample)\n",
        "    \n",
        "    all_samples_by_file.append(all_samples)\n",
        "\n",
        "stations = {next(iter(sample[0].keys())) for sample in all_samples_by_file[0]}"
      ],
      "execution_count": null,
      "outputs": []
    },
    {
      "cell_type": "code",
      "metadata": {
        "id": "unHS1flGrhOT"
      },
      "source": [
        "samples_by_station = {}\n",
        "for station in stations:\n",
        "    samples_by_station[station] = []\n",
        "    for f in all_samples_by_file:\n",
        "        samples_in_file_for_this_station = []\n",
        "        for sample in f:\n",
        "            if sample[0][station]:\n",
        "                # assume there is a sample of this station in all frames\n",
        "                frames = []\n",
        "                for frame in sample:\n",
        "                    frames.append(frame[station])\n",
        "                samples_in_file_for_this_station.append(frames)\n",
        "                \n",
        "        samples_by_station[station].append(samples_in_file_for_this_station)"
      ],
      "execution_count": null,
      "outputs": []
    },
    {
      "cell_type": "code",
      "metadata": {
        "id": "ZQfTemeerhOV",
        "scrolled": true
      },
      "source": [
        "selected_station = next(iter(stations))\n",
        "# selected_station = \"...\"\n",
        "\n",
        "samples = samples_by_station[selected_station] # list of datasets"
      ],
      "execution_count": null,
      "outputs": []
    },
    {
      "cell_type": "markdown",
      "metadata": {
        "id": "tKXupBTFrhOX"
      },
      "source": [
        "## Prepare data"
      ]
    },
    {
      "cell_type": "markdown",
      "metadata": {
        "id": "HX8ZjxpjrhOY"
      },
      "source": [
        "#### Configuration"
      ]
    },
    {
      "cell_type": "code",
      "metadata": {
        "colab": {
          "base_uri": "https://localhost:8080/"
        },
        "id": "iX_hj7HMrhOa",
        "outputId": "7446a4b4-17c3-4a6a-a255-86028f9dc9d8"
      },
      "source": [
        "subcarriers = len(samples[0][0][0][\"angles\"])\n",
        "discretized_steps = 72  # -> 5° interval\n",
        "input_shape = (subcarriers, discretized_steps, 1)\n",
        "val_pct = 0.2\n",
        "test_pct = 0.2\n",
        "class_count = max([int(sample[0][\"cl\"]) for sample in samples[0]])\n",
        "frame_count = len(samples[0][0])\n",
        "\n",
        "use_dists = True\n",
        "data_layers = 2 if use_dists else 1\n",
        "\n",
        "if samples[0][0][0][\"angles3\"] is not None:\n",
        "    use_multiple_antennas = True\n",
        "    print(\"Using 3 TX antennas\")\n",
        "    data_layers *= 3\n",
        "\n",
        "print(f\"Subcarriers {subcarriers}\")\n",
        "print(f\"Step Interval:{360/discretized_steps}°, {np.pi * 2.0 / 36} rad\")\n",
        "\n",
        "print(f\"Sample size: {frame_count}x{subcarriers}x{discretized_steps}x{data_layers}\")\n",
        "print(f\"Classes: {class_count}\")\n",
        "print(f\"Frames: {frame_count}\")"
      ],
      "execution_count": null,
      "outputs": [
        {
          "output_type": "stream",
          "name": "stdout",
          "text": [
            "Using 3 TX antennas\n",
            "Subcarriers 55\n",
            "Step Interval:5.0°, 0.17453292519943295 rad\n",
            "Sample size: 60x55x72x6\n",
            "Classes: 7\n",
            "Frames: 60\n"
          ]
        }
      ]
    },
    {
      "cell_type": "code",
      "metadata": {
        "colab": {
          "base_uri": "https://localhost:8080/",
          "height": 282
        },
        "id": "O_2WSbSRrhOd",
        "scrolled": true,
        "outputId": "fc5c5a2d-3c00-4be2-e552-018bbd31fb58"
      },
      "source": [
        "import matplotlib.pyplot as plt\n",
        "\n",
        "s = []\n",
        "\n",
        "sample = samples[0][3][0]\n",
        "for subcarrier in range(subcarriers):\n",
        "    s.append(sample[\"angles\"][subcarrier])\n",
        "\n",
        "plt.plot(s)"
      ],
      "execution_count": null,
      "outputs": [
        {
          "output_type": "execute_result",
          "data": {
            "text/plain": [
              "[<matplotlib.lines.Line2D at 0x7f95f9481a50>]"
            ]
          },
          "metadata": {},
          "execution_count": 7
        },
        {
          "output_type": "display_data",
          "data": {
            "image/png": "[encoded data removed]",
            "text/plain": [
              "<Figure size 432x288 with 1 Axes>"
            ]
          },
          "metadata": {
            "needs_background": "light"
          }
        }
      ]
    },
    {
      "cell_type": "code",
      "metadata": {
        "id": "2Ma3uKEWrhOf"
      },
      "source": [
        "def load_frame(frame):\n",
        "    x_sample = np.zeros((subcarriers, discretized_steps, data_layers), dtype=\"float32\")\n",
        "    \n",
        "    for subcarrier in range(subcarriers):\n",
        "        offset_per_antenna = 2 if use_dists else 1\n",
        "        \n",
        "        for tx_antenna in range(3 if use_multiple_antennas else 1):\n",
        "            antenna_suffix = \"\" if tx_antenna == 0 else str(tx_antenna+1)\n",
        "            \n",
        "            angle_value = np.floor(frame[\"angles\" + antenna_suffix][subcarrier] / (2.0*np.pi) * discretized_steps)\n",
        "            x_sample[subcarrier][int(angle_value)][(tx_antenna * offset_per_antenna) + 0] = 1.0\n",
        "            \n",
        "            if use_dists:\n",
        "                dist_value = min(len(x_sample[subcarrier])-1, np.floor(frame[\"dists\" + antenna_suffix][subcarrier] / (2000.0) * discretized_steps))\n",
        "                x_sample[subcarrier][int(dist_value)][(tx_antenna * offset_per_antenna) + 1] = 1.0\n",
        "\n",
        "    x_sample.reshape((x_sample.shape[0], x_sample.shape[1], data_layers))\n",
        "    return x_sample\n",
        "\n",
        "def load_data(samples):\n",
        "    shuffled_samples = samples.copy()\n",
        "    random.shuffle(shuffled_samples)\n",
        "    \n",
        "    x_samples = []\n",
        "    y_samples = []\n",
        "\n",
        "    for sample in shuffled_samples:\n",
        "        y_sample = sample[0][\"cl\"] # assume equal in all frame\n",
        "        \n",
        "        x_frames = [load_frame(frame) for frame in sample]\n",
        "        if len(x_frames) != frame_count:\n",
        "            print(f\"Sample for class {sample[0]['cl']} has too many frames! ({len(x_frames)})\", file=sys.stderr)\n",
        "            x_frames = x_frames[:frame_count]\n",
        "        #x_frames = [frame.reshape() for frame in x_frames]\n",
        "        x_sample = np.stack(x_frames, axis=0) # does this work, why is the end result None? Should stack over a new axis\n",
        "        \n",
        "        x_samples.append(x_sample)\n",
        "        y_samples.append(y_sample)\n",
        "        \n",
        "    print(f\"class_count: {class_count}\")\n",
        "\n",
        "    y_samples = to_categorical(np.array(y_samples) - 1, class_count)\n",
        "    \n",
        "    return x_samples, y_samples"
      ],
      "execution_count": null,
      "outputs": []
    },
    {
      "cell_type": "code",
      "metadata": {
        "colab": {
          "base_uri": "https://localhost:8080/"
        },
        "id": "Gcvs8bgYrhOh",
        "outputId": "d24ff430-7b78-4f15-b0a1-a010e6f9cdf0"
      },
      "source": [
        "if len(samples) == 1:\n",
        "    \n",
        "    x_samples, y_samples = load_data(samples[0])\n",
        "\n",
        "    sample_count = len(y_samples)\n",
        "    test_sample_count = int(test_pct * sample_count)\n",
        "    val_sample_count = int(val_pct * sample_count)\n",
        "    train_sample_count = sample_count - test_sample_count - val_sample_count\n",
        "\n",
        "    print(f\"{sample_count} samples, {train_sample_count} train, {val_sample_count} validation, {test_sample_count} test\")\n",
        "    \n",
        "    x_train = x_samples[0:train_sample_count]\n",
        "    y_train = y_samples[0:train_sample_count]\n",
        "    x_val = x_samples[train_sample_count:(train_sample_count+val_sample_count)]\n",
        "    y_val = y_samples[train_sample_count:(train_sample_count+val_sample_count)]\n",
        "    x_test = x_samples[(train_sample_count+val_sample_count):sample_count]\n",
        "    y_test = y_samples[(train_sample_count+val_sample_count):sample_count]\n",
        "\n",
        "    if backend.image_data_format() == 'channels_first':\n",
        "        x_train = np.array(x_train).reshape(train_sample_count, frame_count, data_layers, subcarriers, discretized_steps)\n",
        "        x_val = np.array(x_val).reshape(val_sample_count, frame_count, data_layers, subcarriers, discretized_steps)\n",
        "        x_test = np.array(x_test).reshape(test_sample_count, frame_count, data_layers, subcarriers, discretized_steps)\n",
        "    else:\n",
        "        x_train = np.array(x_train).reshape(train_sample_count, frame_count, subcarriers, discretized_steps, data_layers)\n",
        "        x_val = np.array(x_val).reshape(val_sample_count, frame_count, subcarriers, discretized_steps, data_layers)\n",
        "        x_test = np.array(x_test).reshape(test_sample_count, frame_count, subcarriers, discretized_steps, data_layers)\n",
        "elif len(samples) == 2:\n",
        "    train_samples = samples[0]\n",
        "    test_samples = samples[1]\n",
        "    \n",
        "    # split validation off of train\n",
        "    #x_train_val, y_train_val = load_data(train_samples)\n",
        "    #x_test, y_test = load_data(test_samples)\n",
        "    \n",
        "    #train_val_count = len(train_samples)\n",
        "    #test_sample_count = len(test_samples)\n",
        "    #val_sample_count = int(val_pct * train_val_count)\n",
        "    #train_sample_count = train_val_count - val_sample_count\n",
        "    \n",
        "    #x_train = x_train_val[0:train_sample_count]\n",
        "    #y_train = y_train_val[0:train_sample_count]\n",
        "    #x_val = x_train_val[train_sample_count:(train_sample_count+val_sample_count)]\n",
        "    #y_val = y_train_val[train_sample_count:(train_sample_count+val_sample_count)]\n",
        "\n",
        "    # split validation off of test\n",
        "    x_train, y_train = load_data(train_samples)\n",
        "    x_test_val, y_test_val = load_data(test_samples)\n",
        "    \n",
        "    train_count = len(train_samples)\n",
        "    test_val_count = len(test_samples)\n",
        "    val_sample_count = int(0.5 * test_val_count)\n",
        "    test_sample_count = test_val_count - val_sample_count\n",
        "    train_sample_count = train_count\n",
        "    \n",
        "    x_val = x_test_val[test_sample_count:(test_sample_count+val_sample_count)]\n",
        "    y_val = y_test_val[test_sample_count:(test_sample_count+val_sample_count)]\n",
        "    x_test = x_test_val[0:test_sample_count]\n",
        "    y_test = y_test_val[0:test_sample_count]\n",
        "    \n",
        "    print(f\"{len(train_samples)+len(test_samples)} samples, {train_sample_count} train, {val_sample_count} validation, {test_sample_count} test\")\n",
        "    \n",
        "    if backend.image_data_format() == 'channels_first':\n",
        "        x_train = np.array(x_train).reshape(train_sample_count, frame_count, data_layers, subcarriers, discretized_steps)\n",
        "        x_val = np.array(x_val).reshape(val_sample_count, frame_count, data_layers, subcarriers, discretized_steps)\n",
        "        x_test = np.array(x_test).reshape(test_sample_count, frame_count, data_layers, subcarriers, discretized_steps)\n",
        "    else:\n",
        "        x_train = np.array(x_train).reshape(train_sample_count, frame_count, subcarriers, discretized_steps, data_layers)\n",
        "        x_val = np.array(x_val).reshape(val_sample_count, frame_count, subcarriers, discretized_steps, data_layers)\n",
        "        x_test = np.array(x_test).reshape(test_sample_count, frame_count, subcarriers, discretized_steps, data_layers)\n",
        "elif len(samples) == 3:\n",
        "    train_samples = samples[0]\n",
        "    val_samples = samples[1]\n",
        "    test_samples = samples[2]\n",
        "    \n",
        "    # split validation off of train\n",
        "    #x_train_val, y_train_val = load_data(train_samples)\n",
        "    #x_test, y_test = load_data(test_samples)\n",
        "    \n",
        "    #train_val_count = len(train_samples)\n",
        "    #test_sample_count = len(test_samples)\n",
        "    #val_sample_count = int(val_pct * train_val_count)\n",
        "    #train_sample_count = train_val_count - val_sample_count\n",
        "    \n",
        "    #x_train = x_train_val[0:train_sample_count]\n",
        "    #y_train = y_train_val[0:train_sample_count]\n",
        "    #x_val = x_train_val[train_sample_count:(train_sample_count+val_sample_count)]\n",
        "    #y_val = y_train_val[train_sample_count:(train_sample_count+val_sample_count)]\n",
        "\n",
        "    # split validation off of test\n",
        "    x_train, y_train = load_data(train_samples)\n",
        "    x_val, y_val = load_data(val_samples)\n",
        "    x_test, y_test = load_data(test_samples)\n",
        "    \n",
        "    train_count = len(train_samples)\n",
        "    val_count = len(val_samples)\n",
        "    test_count = len(test_samples)\n",
        "    val_sample_count = val_count\n",
        "    test_sample_count = test_count\n",
        "    train_sample_count = train_count\n",
        "    \n",
        "    #x_val = x_test_val[test_sample_count:(test_sample_count+val_sample_count)]\n",
        "    #y_val = y_test_val[test_sample_count:(test_sample_count+val_sample_count)]\n",
        "    #x_test = x_test_val[0:test_sample_count]\n",
        "    #y_test = y_test_val[0:test_sample_count]\n",
        "    \n",
        "    print(f\"{len(train_samples)+len(test_samples)} samples, {train_sample_count} train, {val_sample_count} validation, {test_sample_count} test\")\n",
        "    \n",
        "    if backend.image_data_format() == 'channels_first':\n",
        "        x_train = np.array(x_train).reshape(train_sample_count, frame_count, data_layers, subcarriers, discretized_steps)\n",
        "        x_val = np.array(x_val).reshape(val_sample_count, frame_count, data_layers, subcarriers, discretized_steps)\n",
        "        x_test = np.array(x_test).reshape(test_sample_count, frame_count, data_layers, subcarriers, discretized_steps)\n",
        "    else:\n",
        "        x_train = np.array(x_train).reshape(train_sample_count, frame_count, subcarriers, discretized_steps, data_layers)\n",
        "        x_val = np.array(x_val).reshape(val_sample_count, frame_count, subcarriers, discretized_steps, data_layers)\n",
        "        x_test = np.array(x_test).reshape(test_sample_count, frame_count, subcarriers, discretized_steps, data_layers)"
      ],
      "execution_count": null,
      "outputs": [
        {
          "output_type": "stream",
          "name": "stderr",
          "text": [
            "Sample for class 6 has too many frames! (61)\n",
            "Sample for class 7 has too many frames! (61)\n",
            "Sample for class 7 has too many frames! (61)\n"
          ]
        },
        {
          "output_type": "stream",
          "name": "stdout",
          "text": [
            "class_count: 7\n",
            "280 samples, 168 train, 56 validation, 56 test\n"
          ]
        }
      ]
    },
    {
      "cell_type": "code",
      "metadata": {
        "id": "_FwXVq9zrhOj"
      },
      "source": [
        "#x_train = x_train[0:1]\n",
        "#x_val = x_val[0:1]\n",
        "#x_test = x_test[0:1]\n",
        "#y_train = y_train[0:1]\n",
        "#y_val = y_val[0:1]\n",
        "#y_test = y_test[0:1]"
      ],
      "execution_count": null,
      "outputs": []
    },
    {
      "cell_type": "markdown",
      "metadata": {
        "id": "ePHcUODTrhOk"
      },
      "source": [
        "## Model"
      ]
    },
    {
      "cell_type": "code",
      "metadata": {
        "colab": {
          "base_uri": "https://localhost:8080/"
        },
        "id": "jiglQ0nnsuTB",
        "outputId": "163ddee9-fa9a-4d18-ff01-e170a8133abd"
      },
      "source": [
        "import tensorflow as tf\n",
        "tf.config.list_physical_devices('GPU')"
      ],
      "execution_count": null,
      "outputs": [
        {
          "output_type": "execute_result",
          "data": {
            "text/plain": [
              "[PhysicalDevice(name='/physical_device:GPU:0', device_type='GPU')]"
            ]
          },
          "metadata": {},
          "execution_count": 11
        }
      ]
    },
    {
      "cell_type": "code",
      "metadata": {
        "id": "6OkpoLg3rhOl",
        "scrolled": false
      },
      "source": [
        "from csi_models import SimpleRecursiveModel\n",
        "\n",
        "model = SimpleRecursiveModel(class_count=class_count, input_shape=input_shape)"
      ],
      "execution_count": null,
      "outputs": []
    },
    {
      "cell_type": "code",
      "metadata": {
        "colab": {
          "base_uri": "https://localhost:8080/"
        },
        "id": "AeV4uDkVrhOm",
        "scrolled": false,
        "outputId": "7c802a74-77d8-4f92-fcff-3bd05c4878a2"
      },
      "source": [
        "model.compile(loss = keras.losses.categorical_crossentropy, \n",
        "   optimizer = keras.optimizers.Adadelta(), metrics = ['accuracy'])\n",
        "model.build(x_train.shape)\n",
        "model.summary()"
      ],
      "execution_count": null,
      "outputs": [
        {
          "output_type": "stream",
          "name": "stdout",
          "text": [
            "Model: \"simple_recursive_model\"\n",
            "_________________________________________________________________\n",
            " Layer (type)                Output Shape              Param #   \n",
            "=================================================================\n",
            " time_distributed (TimeDistr  multiple                 432672    \n",
            " ibuted)                                                         \n",
            "                                                                 \n",
            " lstm (LSTM)                 multiple                  131584    \n",
            "                                                                 \n",
            " dense_1 (Dense)             multiple                  903       \n",
            "                                                                 \n",
            "=================================================================\n",
            "Total params: 565,159\n",
            "Trainable params: 565,159\n",
            "Non-trainable params: 0\n",
            "_________________________________________________________________\n"
          ]
        }
      ]
    },
    {
      "cell_type": "code",
      "metadata": {
        "id": "5qeqqxuXrhOn",
        "scrolled": false,
        "colab": {
          "base_uri": "https://localhost:8080/"
        },
        "outputId": "0d1dbb29-7c3c-4658-d6f0-763ab422cb25"
      },
      "source": [
        "backend.set_value(model.optimizer.learning_rate, 0.05)\n",
        "\n",
        "history = model.fit(\n",
        "   x_train, y_train, \n",
        "   batch_size = 64, \n",
        "   epochs = 100,\n",
        "   verbose = 1, \n",
        "   validation_data = (x_val, y_val)\n",
        ")"
      ],
      "execution_count": null,
      "outputs": [
        {
          "output_type": "stream",
          "name": "stdout",
          "text": [
            "Epoch 1/100\n",
            "3/3 [==============================] - 51s 14s/step - loss: 1.9483 - accuracy: 0.1310 - val_loss: 1.9596 - val_accuracy: 0.0714\n",
            "Epoch 2/100\n",
            "3/3 [==============================] - 6s 2s/step - loss: 1.9537 - accuracy: 0.0952 - val_loss: 1.9569 - val_accuracy: 0.0714\n",
            "Epoch 3/100\n",
            "3/3 [==============================] - 6s 2s/step - loss: 1.9460 - accuracy: 0.1190 - val_loss: 1.9537 - val_accuracy: 0.0714\n",
            "Epoch 4/100\n",
            "3/3 [==============================] - 6s 2s/step - loss: 1.9412 - accuracy: 0.1667 - val_loss: 1.9525 - val_accuracy: 0.0893\n",
            "Epoch 5/100\n",
            "3/3 [==============================] - 6s 2s/step - loss: 1.9411 - accuracy: 0.1845 - val_loss: 1.9499 - val_accuracy: 0.1250\n",
            "Epoch 6/100\n",
            "3/3 [==============================] - 6s 2s/step - loss: 1.9399 - accuracy: 0.1488 - val_loss: 1.9477 - val_accuracy: 0.1071\n",
            "Epoch 7/100\n",
            "3/3 [==============================] - 6s 2s/step - loss: 1.9380 - accuracy: 0.1488 - val_loss: 1.9453 - val_accuracy: 0.1250\n",
            "Epoch 8/100\n",
            "3/3 [==============================] - 6s 2s/step - loss: 1.9306 - accuracy: 0.2440 - val_loss: 1.9438 - val_accuracy: 0.1250\n",
            "Epoch 9/100\n",
            "3/3 [==============================] - 6s 2s/step - loss: 1.9310 - accuracy: 0.2083 - val_loss: 1.9443 - val_accuracy: 0.2143\n",
            "Epoch 10/100\n",
            "3/3 [==============================] - 6s 2s/step - loss: 1.9336 - accuracy: 0.2083 - val_loss: 1.9444 - val_accuracy: 0.2500\n",
            "Epoch 11/100\n",
            "3/3 [==============================] - 6s 2s/step - loss: 1.9255 - accuracy: 0.2500 - val_loss: 1.9430 - val_accuracy: 0.3036\n",
            "Epoch 12/100\n",
            "3/3 [==============================] - 6s 2s/step - loss: 1.9291 - accuracy: 0.2083 - val_loss: 1.9419 - val_accuracy: 0.3036\n",
            "Epoch 13/100\n",
            "3/3 [==============================] - 6s 2s/step - loss: 1.9213 - accuracy: 0.2560 - val_loss: 1.9374 - val_accuracy: 0.2679\n",
            "Epoch 14/100\n",
            "3/3 [==============================] - 6s 2s/step - loss: 1.9186 - accuracy: 0.2917 - val_loss: 1.9334 - val_accuracy: 0.2679\n",
            "Epoch 15/100\n",
            "3/3 [==============================] - 6s 2s/step - loss: 1.9087 - accuracy: 0.3155 - val_loss: 1.9307 - val_accuracy: 0.2500\n",
            "Epoch 16/100\n",
            "3/3 [==============================] - 6s 2s/step - loss: 1.9143 - accuracy: 0.3155 - val_loss: 1.9260 - val_accuracy: 0.3571\n",
            "Epoch 17/100\n",
            "3/3 [==============================] - 6s 2s/step - loss: 1.9071 - accuracy: 0.3393 - val_loss: 1.9228 - val_accuracy: 0.2679\n",
            "Epoch 18/100\n",
            "3/3 [==============================] - 6s 2s/step - loss: 1.9028 - accuracy: 0.2679 - val_loss: 1.9202 - val_accuracy: 0.4107\n",
            "Epoch 19/100\n",
            "3/3 [==============================] - 6s 2s/step - loss: 1.8898 - accuracy: 0.2976 - val_loss: 1.9114 - val_accuracy: 0.4286\n",
            "Epoch 20/100\n",
            "3/3 [==============================] - 6s 2s/step - loss: 1.8895 - accuracy: 0.3155 - val_loss: 1.9052 - val_accuracy: 0.3393\n",
            "Epoch 21/100\n",
            "3/3 [==============================] - 6s 2s/step - loss: 1.8763 - accuracy: 0.3393 - val_loss: 1.8936 - val_accuracy: 0.3750\n",
            "Epoch 22/100\n",
            "3/3 [==============================] - 6s 2s/step - loss: 1.8688 - accuracy: 0.3393 - val_loss: 1.8797 - val_accuracy: 0.2679\n",
            "Epoch 23/100\n",
            "3/3 [==============================] - 6s 2s/step - loss: 1.8554 - accuracy: 0.3274 - val_loss: 1.8641 - val_accuracy: 0.2857\n",
            "Epoch 24/100\n",
            "3/3 [==============================] - 6s 2s/step - loss: 1.8148 - accuracy: 0.3333 - val_loss: 1.8341 - val_accuracy: 0.3214\n",
            "Epoch 25/100\n",
            "3/3 [==============================] - 6s 2s/step - loss: 1.7940 - accuracy: 0.3750 - val_loss: 1.8044 - val_accuracy: 0.3929\n",
            "Epoch 26/100\n",
            "3/3 [==============================] - 6s 2s/step - loss: 1.7704 - accuracy: 0.3333 - val_loss: 1.7594 - val_accuracy: 0.3571\n",
            "Epoch 27/100\n",
            "3/3 [==============================] - 6s 2s/step - loss: 1.7152 - accuracy: 0.3750 - val_loss: 1.7232 - val_accuracy: 0.3750\n",
            "Epoch 28/100\n",
            "3/3 [==============================] - 6s 2s/step - loss: 1.6587 - accuracy: 0.3929 - val_loss: 1.6644 - val_accuracy: 0.3393\n",
            "Epoch 29/100\n",
            "3/3 [==============================] - 6s 2s/step - loss: 1.6341 - accuracy: 0.3393 - val_loss: 1.6228 - val_accuracy: 0.4107\n",
            "Epoch 30/100\n",
            "3/3 [==============================] - 6s 2s/step - loss: 1.5971 - accuracy: 0.3452 - val_loss: 1.5973 - val_accuracy: 0.3393\n",
            "Epoch 31/100\n",
            "3/3 [==============================] - 6s 2s/step - loss: 1.5949 - accuracy: 0.3631 - val_loss: 1.5498 - val_accuracy: 0.3393\n",
            "Epoch 32/100\n",
            "3/3 [==============================] - 6s 2s/step - loss: 1.5260 - accuracy: 0.4107 - val_loss: 1.5945 - val_accuracy: 0.3036\n",
            "Epoch 33/100\n",
            "3/3 [==============================] - 6s 2s/step - loss: 1.5099 - accuracy: 0.3929 - val_loss: 1.5959 - val_accuracy: 0.3571\n",
            "Epoch 34/100\n",
            "3/3 [==============================] - 6s 2s/step - loss: 1.4680 - accuracy: 0.4583 - val_loss: 1.4868 - val_accuracy: 0.4107\n",
            "Epoch 35/100\n",
            "3/3 [==============================] - 6s 2s/step - loss: 1.4508 - accuracy: 0.4643 - val_loss: 1.4925 - val_accuracy: 0.3214\n",
            "Epoch 36/100\n",
            "3/3 [==============================] - 6s 2s/step - loss: 1.4171 - accuracy: 0.4405 - val_loss: 1.5031 - val_accuracy: 0.4464\n",
            "Epoch 37/100\n",
            "3/3 [==============================] - 6s 2s/step - loss: 1.4285 - accuracy: 0.4286 - val_loss: 1.4983 - val_accuracy: 0.3750\n",
            "Epoch 38/100\n",
            "3/3 [==============================] - 6s 2s/step - loss: 1.3673 - accuracy: 0.5060 - val_loss: 1.4371 - val_accuracy: 0.3393\n",
            "Epoch 39/100\n",
            "3/3 [==============================] - 6s 2s/step - loss: 1.3292 - accuracy: 0.4881 - val_loss: 1.4958 - val_accuracy: 0.3750\n",
            "Epoch 40/100\n",
            "3/3 [==============================] - 6s 2s/step - loss: 1.3493 - accuracy: 0.4762 - val_loss: 1.4395 - val_accuracy: 0.4107\n",
            "Epoch 41/100\n",
            "3/3 [==============================] - 6s 2s/step - loss: 1.3585 - accuracy: 0.4583 - val_loss: 1.3878 - val_accuracy: 0.4643\n",
            "Epoch 42/100\n",
            "3/3 [==============================] - 6s 2s/step - loss: 1.2693 - accuracy: 0.5179 - val_loss: 1.5452 - val_accuracy: 0.3750\n",
            "Epoch 43/100\n",
            "3/3 [==============================] - 6s 2s/step - loss: 1.3224 - accuracy: 0.5119 - val_loss: 1.4131 - val_accuracy: 0.4464\n",
            "Epoch 44/100\n",
            "3/3 [==============================] - 6s 2s/step - loss: 1.2281 - accuracy: 0.5714 - val_loss: 1.4404 - val_accuracy: 0.4286\n",
            "Epoch 45/100\n",
            "3/3 [==============================] - 6s 2s/step - loss: 1.2761 - accuracy: 0.4286 - val_loss: 1.4069 - val_accuracy: 0.3929\n",
            "Epoch 46/100\n",
            "3/3 [==============================] - 6s 2s/step - loss: 1.2181 - accuracy: 0.5417 - val_loss: 1.4386 - val_accuracy: 0.4107\n",
            "Epoch 47/100\n",
            "3/3 [==============================] - 6s 2s/step - loss: 1.1520 - accuracy: 0.6012 - val_loss: 1.6878 - val_accuracy: 0.3571\n",
            "Epoch 48/100\n",
            "3/3 [==============================] - 6s 2s/step - loss: 1.2921 - accuracy: 0.5060 - val_loss: 1.4856 - val_accuracy: 0.3750\n",
            "Epoch 49/100\n",
            "3/3 [==============================] - 6s 2s/step - loss: 1.2263 - accuracy: 0.5298 - val_loss: 1.3474 - val_accuracy: 0.4464\n",
            "Epoch 50/100\n",
            "3/3 [==============================] - 6s 2s/step - loss: 1.1575 - accuracy: 0.5893 - val_loss: 1.3852 - val_accuracy: 0.4107\n",
            "Epoch 51/100\n",
            "3/3 [==============================] - 6s 2s/step - loss: 1.0864 - accuracy: 0.6548 - val_loss: 1.3243 - val_accuracy: 0.5000\n",
            "Epoch 52/100\n",
            "3/3 [==============================] - 6s 2s/step - loss: 1.0813 - accuracy: 0.6488 - val_loss: 1.2797 - val_accuracy: 0.4821\n",
            "Epoch 53/100\n",
            "3/3 [==============================] - 6s 2s/step - loss: 1.1470 - accuracy: 0.5952 - val_loss: 1.3818 - val_accuracy: 0.4286\n",
            "Epoch 54/100\n",
            "3/3 [==============================] - 6s 2s/step - loss: 1.0561 - accuracy: 0.6369 - val_loss: 1.3097 - val_accuracy: 0.5000\n",
            "Epoch 55/100\n",
            "3/3 [==============================] - 6s 2s/step - loss: 1.0165 - accuracy: 0.6607 - val_loss: 1.4240 - val_accuracy: 0.3750\n",
            "Epoch 56/100\n",
            "3/3 [==============================] - 6s 2s/step - loss: 1.0638 - accuracy: 0.5655 - val_loss: 1.3532 - val_accuracy: 0.4464\n",
            "Epoch 57/100\n",
            "3/3 [==============================] - 6s 2s/step - loss: 1.0927 - accuracy: 0.5655 - val_loss: 1.3228 - val_accuracy: 0.5179\n",
            "Epoch 58/100\n",
            "3/3 [==============================] - 6s 2s/step - loss: 0.9856 - accuracy: 0.6845 - val_loss: 1.3250 - val_accuracy: 0.4821\n",
            "Epoch 59/100\n",
            "3/3 [==============================] - 6s 2s/step - loss: 0.9613 - accuracy: 0.6845 - val_loss: 1.2646 - val_accuracy: 0.5536\n",
            "Epoch 60/100\n",
            "3/3 [==============================] - 6s 2s/step - loss: 0.9703 - accuracy: 0.6429 - val_loss: 1.3439 - val_accuracy: 0.5179\n",
            "Epoch 61/100\n",
            "3/3 [==============================] - 6s 2s/step - loss: 0.9430 - accuracy: 0.6786 - val_loss: 1.2859 - val_accuracy: 0.5357\n",
            "Epoch 62/100\n",
            "3/3 [==============================] - 6s 2s/step - loss: 0.8931 - accuracy: 0.7143 - val_loss: 1.2761 - val_accuracy: 0.5357\n",
            "Epoch 63/100\n",
            "3/3 [==============================] - 6s 2s/step - loss: 0.8719 - accuracy: 0.7143 - val_loss: 1.2813 - val_accuracy: 0.5000\n",
            "Epoch 64/100\n",
            "3/3 [==============================] - 6s 2s/step - loss: 0.8415 - accuracy: 0.7381 - val_loss: 1.3866 - val_accuracy: 0.4821\n",
            "Epoch 65/100\n",
            "3/3 [==============================] - 6s 2s/step - loss: 0.8673 - accuracy: 0.7321 - val_loss: 1.2877 - val_accuracy: 0.5357\n",
            "Epoch 66/100\n",
            "3/3 [==============================] - 6s 2s/step - loss: 0.8302 - accuracy: 0.7202 - val_loss: 1.2751 - val_accuracy: 0.5714\n",
            "Epoch 67/100\n",
            "3/3 [==============================] - 6s 2s/step - loss: 0.8093 - accuracy: 0.7381 - val_loss: 1.3858 - val_accuracy: 0.5179\n",
            "Epoch 68/100\n",
            "3/3 [==============================] - 6s 2s/step - loss: 0.8186 - accuracy: 0.7560 - val_loss: 1.2713 - val_accuracy: 0.5893\n",
            "Epoch 69/100\n",
            "3/3 [==============================] - 6s 2s/step - loss: 0.7721 - accuracy: 0.7381 - val_loss: 1.2229 - val_accuracy: 0.5714\n",
            "Epoch 70/100\n",
            "3/3 [==============================] - 6s 2s/step - loss: 0.7077 - accuracy: 0.7976 - val_loss: 1.3006 - val_accuracy: 0.5536\n",
            "Epoch 71/100\n",
            "3/3 [==============================] - 6s 2s/step - loss: 0.8097 - accuracy: 0.7143 - val_loss: 1.2410 - val_accuracy: 0.5893\n",
            "Epoch 72/100\n",
            "3/3 [==============================] - 6s 2s/step - loss: 0.7446 - accuracy: 0.7619 - val_loss: 1.2197 - val_accuracy: 0.5357\n",
            "Epoch 73/100\n",
            "3/3 [==============================] - 6s 2s/step - loss: 0.7803 - accuracy: 0.7321 - val_loss: 1.3160 - val_accuracy: 0.5893\n",
            "Epoch 74/100\n",
            "3/3 [==============================] - 6s 2s/step - loss: 0.7452 - accuracy: 0.7798 - val_loss: 1.2067 - val_accuracy: 0.5357\n",
            "Epoch 75/100\n",
            "3/3 [==============================] - 6s 2s/step - loss: 0.6990 - accuracy: 0.7500 - val_loss: 1.2070 - val_accuracy: 0.5536\n",
            "Epoch 76/100\n",
            "3/3 [==============================] - 6s 2s/step - loss: 0.6819 - accuracy: 0.7857 - val_loss: 1.2145 - val_accuracy: 0.5714\n",
            "Epoch 77/100\n",
            "3/3 [==============================] - 6s 2s/step - loss: 0.6304 - accuracy: 0.7857 - val_loss: 1.2658 - val_accuracy: 0.6071\n",
            "Epoch 78/100\n",
            "3/3 [==============================] - 6s 2s/step - loss: 0.6864 - accuracy: 0.7917 - val_loss: 1.2656 - val_accuracy: 0.5179\n",
            "Epoch 79/100\n",
            "3/3 [==============================] - 6s 2s/step - loss: 0.6695 - accuracy: 0.7619 - val_loss: 1.2927 - val_accuracy: 0.6071\n",
            "Epoch 80/100\n",
            "3/3 [==============================] - 6s 2s/step - loss: 0.6202 - accuracy: 0.7917 - val_loss: 1.3523 - val_accuracy: 0.5357\n",
            "Epoch 81/100\n",
            "3/3 [==============================] - 6s 2s/step - loss: 0.6648 - accuracy: 0.7679 - val_loss: 1.2837 - val_accuracy: 0.5357\n",
            "Epoch 82/100\n",
            "3/3 [==============================] - 6s 2s/step - loss: 0.6294 - accuracy: 0.7679 - val_loss: 1.2552 - val_accuracy: 0.5357\n",
            "Epoch 83/100\n",
            "3/3 [==============================] - 6s 2s/step - loss: 0.5636 - accuracy: 0.8452 - val_loss: 1.2517 - val_accuracy: 0.5357\n",
            "Epoch 84/100\n",
            "3/3 [==============================] - 6s 2s/step - loss: 0.6075 - accuracy: 0.8095 - val_loss: 1.3280 - val_accuracy: 0.5893\n",
            "Epoch 85/100\n",
            "3/3 [==============================] - 6s 2s/step - loss: 0.6530 - accuracy: 0.8333 - val_loss: 1.2937 - val_accuracy: 0.5714\n",
            "Epoch 86/100\n",
            "3/3 [==============================] - 6s 2s/step - loss: 0.5549 - accuracy: 0.8214 - val_loss: 1.1782 - val_accuracy: 0.5714\n",
            "Epoch 87/100\n",
            "3/3 [==============================] - 6s 2s/step - loss: 0.5587 - accuracy: 0.8095 - val_loss: 1.2327 - val_accuracy: 0.5357\n",
            "Epoch 88/100\n",
            "3/3 [==============================] - 6s 2s/step - loss: 0.6177 - accuracy: 0.8155 - val_loss: 1.2376 - val_accuracy: 0.5714\n",
            "Epoch 89/100\n",
            "3/3 [==============================] - 6s 2s/step - loss: 0.5030 - accuracy: 0.8690 - val_loss: 1.2488 - val_accuracy: 0.5893\n",
            "Epoch 90/100\n",
            "3/3 [==============================] - 6s 2s/step - loss: 0.5270 - accuracy: 0.8155 - val_loss: 1.2056 - val_accuracy: 0.5893\n",
            "Epoch 91/100\n",
            "3/3 [==============================] - 6s 2s/step - loss: 0.4670 - accuracy: 0.8988 - val_loss: 1.2258 - val_accuracy: 0.6071\n",
            "Epoch 92/100\n",
            "3/3 [==============================] - 6s 2s/step - loss: 0.6276 - accuracy: 0.7798 - val_loss: 1.2659 - val_accuracy: 0.5536\n",
            "Epoch 93/100\n",
            "3/3 [==============================] - 6s 2s/step - loss: 0.4830 - accuracy: 0.8690 - val_loss: 1.2298 - val_accuracy: 0.5893\n",
            "Epoch 94/100\n",
            "3/3 [==============================] - 6s 2s/step - loss: 0.4541 - accuracy: 0.8690 - val_loss: 1.2166 - val_accuracy: 0.6250\n",
            "Epoch 95/100\n",
            "3/3 [==============================] - 6s 2s/step - loss: 0.4991 - accuracy: 0.8452 - val_loss: 1.3192 - val_accuracy: 0.5179\n",
            "Epoch 96/100\n",
            "3/3 [==============================] - 6s 2s/step - loss: 0.4846 - accuracy: 0.8631 - val_loss: 1.2664 - val_accuracy: 0.6250\n",
            "Epoch 97/100\n",
            "3/3 [==============================] - 6s 2s/step - loss: 0.4373 - accuracy: 0.8690 - val_loss: 1.2202 - val_accuracy: 0.5893\n",
            "Epoch 98/100\n",
            "3/3 [==============================] - 6s 2s/step - loss: 0.3853 - accuracy: 0.9048 - val_loss: 1.2461 - val_accuracy: 0.5536\n",
            "Epoch 99/100\n",
            "3/3 [==============================] - 6s 2s/step - loss: 0.4439 - accuracy: 0.8690 - val_loss: 1.2053 - val_accuracy: 0.6071\n",
            "Epoch 100/100\n",
            "3/3 [==============================] - 6s 2s/step - loss: 0.4512 - accuracy: 0.8512 - val_loss: 1.2126 - val_accuracy: 0.5893\n"
          ]
        }
      ]
    },
    {
      "cell_type": "code",
      "metadata": {
        "colab": {
          "base_uri": "https://localhost:8080/",
          "height": 541
        },
        "id": "KAf8cXm_XXci",
        "outputId": "2f71b2f7-e9ab-4161-8417-abc7058b92f0"
      },
      "source": [
        "epochs = range(1, len(history.history['loss'])+1)\n",
        "\n",
        "plt.plot(epochs, history.history['loss'], label='Training Loss')\n",
        "plt.plot(epochs, history.history['val_loss'], label='Validation Loss')\n",
        "plt.xlabel('Epochs')\n",
        "plt.ylabel('Loss')\n",
        "plt.legend()\n",
        "\n",
        "plt.show()\n",
        "\n",
        "plt.plot(epochs, history.history['accuracy'], label='Training Accuracy')\n",
        "plt.plot(epochs, history.history['val_accuracy'], label='Validation Accuracy')\n",
        "plt.xlabel('Epochs')\n",
        "plt.ylabel('Loss')\n",
        "plt.legend()\n",
        "\n",
        "plt.show()"
      ],
      "execution_count": null,
      "outputs": [
        {
          "output_type": "display_data",
          "data": {
            "image/png": "[encoded data removed]",
            "text/plain": [
              "<Figure size 432x288 with 1 Axes>"
            ]
          },
          "metadata": {
            "needs_background": "light"
          }
        },
        {
          "output_type": "display_data",
          "data": {
            "image/png": "[encoded data removed]",
            "text/plain": [
              "<Figure size 432x288 with 1 Axes>"
            ]
          },
          "metadata": {
            "needs_background": "light"
          }
        }
      ]
    },
    {
      "cell_type": "markdown",
      "metadata": {
        "id": "cjD0OfQLrhOn"
      },
      "source": [
        "## Test"
      ]
    },
    {
      "cell_type": "code",
      "metadata": {
        "colab": {
          "base_uri": "https://localhost:8080/"
        },
        "id": "zbW-_KZlrhOo",
        "outputId": "02502b62-1ae0-49cb-a815-4b266d84d0e1"
      },
      "source": [
        "score = model.evaluate(x_test, y_test, verbose = 0) \n",
        "\n",
        "print('Test loss:', score[0]) \n",
        "print('Test accuracy:', score[1])"
      ],
      "execution_count": null,
      "outputs": [
        {
          "output_type": "stream",
          "name": "stdout",
          "text": [
            "Test loss: 1.0702828168869019\n",
            "Test accuracy: 0.5178571343421936\n"
          ]
        }
      ]
    },
    {
      "cell_type": "markdown",
      "metadata": {
        "id": "MvS0m-qsrhOp"
      },
      "source": [
        "## Predict"
      ]
    },
    {
      "cell_type": "code",
      "metadata": {
        "colab": {
          "base_uri": "https://localhost:8080/"
        },
        "id": "LIr3t4fZrhOp",
        "outputId": "2ecd3a82-f3cd-41e8-86e2-e41596d9bf0b"
      },
      "source": [
        "pred = model.predict(x_test) \n",
        "pred = np.argmax(pred, axis = 1)[:30] \n",
        "label = np.argmax(y_test,axis = 1)[:30] \n",
        "\n",
        "print(pred) \n",
        "print(label)"
      ],
      "execution_count": null,
      "outputs": [
        {
          "output_type": "stream",
          "name": "stdout",
          "text": [
            "[2 5 1 3 2 4 4 4 0 4 4 1 2 5 4 0 1 2 3 4 1 6 3 2 5 1 5 0 2 3]\n",
            "[2 6 0 3 2 5 6 2 0 5 4 0 2 5 3 0 1 2 4 4 0 6 4 3 5 4 5 0 2 3]\n"
          ]
        }
      ]
    },
    {
      "cell_type": "code",
      "metadata": {
        "colab": {
          "base_uri": "https://localhost:8080/"
        },
        "id": "PcznFaYcrhOq",
        "outputId": "ecca4e97-bcd0-4b30-e9e3-8a4c413ffe5d"
      },
      "source": [
        "pred = model.predict(x_test)\n",
        "pred = pred[:10] \n",
        "label = y_test[:10] \n",
        "\n",
        "print(np.round(pred, decimals = 3)) \n",
        "print(label)"
      ],
      "execution_count": null,
      "outputs": [
        {
          "output_type": "stream",
          "name": "stdout",
          "text": [
            "[[0.    0.001 0.893 0.032 0.066 0.004 0.002]\n",
            " [0.001 0.001 0.001 0.023 0.023 0.584 0.367]\n",
            " [0.037 0.935 0.005 0.019 0.001 0.002 0.   ]\n",
            " [0.003 0.18  0.137 0.385 0.279 0.015 0.002]\n",
            " [0.    0.001 0.927 0.023 0.045 0.002 0.003]\n",
            " [0.    0.001 0.006 0.08  0.657 0.208 0.049]\n",
            " [0.    0.01  0.031 0.262 0.563 0.041 0.092]\n",
            " [0.001 0.009 0.12  0.142 0.65  0.049 0.028]\n",
            " [0.658 0.26  0.016 0.059 0.002 0.004 0.001]\n",
            " [0.002 0.001 0.031 0.326 0.419 0.217 0.003]]\n",
            "[[0. 0. 1. 0. 0. 0. 0.]\n",
            " [0. 0. 0. 0. 0. 0. 1.]\n",
            " [1. 0. 0. 0. 0. 0. 0.]\n",
            " [0. 0. 0. 1. 0. 0. 0.]\n",
            " [0. 0. 1. 0. 0. 0. 0.]\n",
            " [0. 0. 0. 0. 0. 1. 0.]\n",
            " [0. 0. 0. 0. 0. 0. 1.]\n",
            " [0. 0. 1. 0. 0. 0. 0.]\n",
            " [1. 0. 0. 0. 0. 0. 0.]\n",
            " [0. 0. 0. 0. 0. 1. 0.]]\n"
          ]
        }
      ]
    },
    {
      "cell_type": "code",
      "metadata": {
        "id": "bc-4mOkpQZrl"
      },
      "source": [
        ""
      ],
      "execution_count": null,
      "outputs": []
    }
  ]
}