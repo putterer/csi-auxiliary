{
 "cells": [
  {
   "cell_type": "code",
   "execution_count": 61,
   "metadata": {
    "id": "koJKcxGvrhN-"
   },
   "outputs": [],
   "source": [
    "import sys\n",
    "import json\n",
    "import random\n",
    "import math\n",
    "import numpy as np\n",
    "from matplotlib import pyplot as plt"
   ]
  },
  {
   "cell_type": "markdown",
   "metadata": {
    "id": "m4MR4NRQrhON"
   },
   "source": [
    "## Load and parse data"
   ]
  },
  {
   "cell_type": "code",
   "execution_count": 62,
   "metadata": {
    "id": "uITBxGxirhOR"
   },
   "outputs": [],
   "source": [
    "samples_files = [\"2021-11-09-standup-sitdown-stationary-waving-clapping-nodding-walking.samples\"]\n",
    "#samples_files = [\"/content/drive/MyDrive/data/\" + f for f in samples_files]\n",
    "all_samples_by_file = []\n",
    "\n",
    "for samples_file in samples_files:\n",
    "    all_samples = []\n",
    "    with open(samples_file, \"r\") as file:\n",
    "        for line in file.readlines():\n",
    "            sample = json.loads(line)\n",
    "            all_samples.append(sample)\n",
    "    \n",
    "    all_samples_by_file.append(all_samples)\n",
    "\n",
    "stations = {next(iter(sample[0].keys())) for sample in all_samples_by_file[0]}"
   ]
  },
  {
   "cell_type": "code",
   "execution_count": 63,
   "metadata": {
    "id": "unHS1flGrhOT"
   },
   "outputs": [],
   "source": [
    "samples_by_station = {}\n",
    "for station in stations:\n",
    "    samples_by_station[station] = []\n",
    "    for f in all_samples_by_file:\n",
    "        samples_in_file_for_this_station = []\n",
    "        for sample in f:\n",
    "            if sample[0][station]:\n",
    "                # assume there is a sample of this station in all frames\n",
    "                frames = []\n",
    "                for frame in sample:\n",
    "                    frames.append(frame[station])\n",
    "                samples_in_file_for_this_station.append(frames)\n",
    "                \n",
    "        samples_by_station[station].append(samples_in_file_for_this_station)"
   ]
  },
  {
   "cell_type": "code",
   "execution_count": 64,
   "metadata": {
    "id": "ZQfTemeerhOV",
    "scrolled": true
   },
   "outputs": [],
   "source": [
    "selected_station = next(iter(stations))\n",
    "# selected_station = \"...\"\n",
    "\n",
    "samples = samples_by_station[selected_station] # list of datasets"
   ]
  },
  {
   "cell_type": "markdown",
   "metadata": {
    "id": "tKXupBTFrhOX"
   },
   "source": [
    "## Prepare data"
   ]
  },
  {
   "cell_type": "markdown",
   "metadata": {
    "id": "HX8ZjxpjrhOY"
   },
   "source": [
    "#### Configuration"
   ]
  },
  {
   "cell_type": "code",
   "execution_count": 65,
   "metadata": {
    "colab": {
     "base_uri": "https://localhost:8080/"
    },
    "id": "iX_hj7HMrhOa",
    "outputId": "32144581-dc23-4f9c-856a-a14bfbf23907"
   },
   "outputs": [
    {
     "name": "stdout",
     "output_type": "stream",
     "text": [
      "Using 3 TX antennas\n",
      "Subcarriers 55\n",
      "Sample size: 20x55x6\n",
      "Classes: 7\n",
      "Frames: 20\n"
     ]
    }
   ],
   "source": [
    "subcarriers = len(samples[0][0][0][\"angles\"])\n",
    "\n",
    "val_pct = 0.2\n",
    "test_pct = 0.2\n",
    "class_count = max([int(sample[0][\"cl\"]) for sample in samples[0]])\n",
    "frame_count = len(samples[0][0])\n",
    "\n",
    "use_dists = True\n",
    "data_layers = 2 if use_dists else 1\n",
    "\n",
    "if samples[0][0][0][\"angles3\"] is not None:\n",
    "    use_multiple_antennas = True\n",
    "    print(\"Using 3 TX antennas\")\n",
    "    data_layers *= 3\n",
    "\n",
    "tx_antennas = (3 if use_multiple_antennas else 1)\n",
    "\n",
    "print(f\"Subcarriers {subcarriers}\")\n",
    "\n",
    "print(f\"Sample size: {frame_count}x{subcarriers}x{data_layers}\")\n",
    "print(f\"Classes: {class_count}\")\n",
    "print(f\"Frames: {frame_count}\")"
   ]
  },
  {
   "cell_type": "code",
   "execution_count": 69,
   "metadata": {},
   "outputs": [],
   "source": [
    "flat_fun_avg = lambda l: sum(l) / len(l)\n",
    "flat_fun_max = lambda l: max(l)\n",
    "flat_fun_sum = lambda l: sum(l)\n",
    "\n",
    "angle_change_subcarrier_flat_fun = flat_fun_avg\n",
    "angle_change_antenna_flat_fun = flat_fun_max\n",
    "dist_change_subcarrier_flat_fun = flat_fun_avg\n",
    "dist_change_antenna_flat_fun = flat_fun_max"
   ]
  },
  {
   "cell_type": "code",
   "execution_count": 70,
   "metadata": {
    "scrolled": false
   },
   "outputs": [],
   "source": [
    "def obtain_single_antenna_angle_change(current, previous):\n",
    "    changes = [current[i] % (math.pi * 2.0) for i in range(subcarriers)] # TODO: WRAP AROUND\n",
    "    return angle_change_subcarrier_flat_fun(current)\n",
    "        \n",
    "\n",
    "def obtain_angle_change(current, previous):\n",
    "    field = lambda i: \"angles\" if i == 0 else f\"angles{i+1}\"\n",
    "    antenna_changes = [obtain_single_antenna_angle_change(current[field(i)], previous[field(i)]) for i in range(tx_antennas)]\n",
    "    \n",
    "    return angle_change_antenna_flat_fun(antenna_changes)\n",
    "\n",
    "def obtain_single_antenna_dist_change(current, previous):\n",
    "    changes = [current[i] for i in range(subcarriers)]\n",
    "    return dist_change_subcarrier_flat_fun(current)\n",
    "        \n",
    "\n",
    "def obtain_dist_change(current, previous):\n",
    "    field = lambda i: \"dists\" if i == 0 else f\"dists{i+1}\"\n",
    "    antenna_changes = [obtain_single_antenna_dist_change(current[field(i)], previous[field(i)]) for i in range(tx_antennas)]\n",
    "    \n",
    "    return dist_change_antenna_flat_fun(antenna_changes)\n",
    "    \n",
    "\n",
    "def obtain_change_pattern(sample):\n",
    "    pattern = []\n",
    "    for i in range(1, len(sample)):\n",
    "        current_frame = sample[i]\n",
    "        previous_frame = sample[i-1]\n",
    "        \n",
    "        angle_change = obtain_angle_change(current_frame, previous_frame)\n",
    "        dist_change = obtain_dist_change(current_frame, previous_frame) # TODO what to use?\n",
    "        \n",
    "        pattern.append(angle_change)\n",
    "    \n",
    "    return pattern"
   ]
  },
  {
   "cell_type": "markdown",
   "metadata": {},
   "source": [
    "### Visualization"
   ]
  },
  {
   "cell_type": "code",
   "execution_count": null,
   "metadata": {
    "scrolled": false
   },
   "outputs": [],
   "source": [
    "classes = [\"standup\", \"sitdown\", \"stationary\", \"waving\", \"clapping\", \"nodding\", \"walking\"]\n",
    "\n",
    "dataset1 = samples[0]\n",
    "\n",
    "for sample in dataset1:\n",
    "    clazz = sample[0][\"cl\"]\n",
    "    \n",
    "    fig = plt.figure()\n",
    "    plt.title(\"Class: \" + str(clazz) + \" (\" + classes[clazz-1] + \")\")\n",
    "    #plt.ylim(1,5)\n",
    "    \n",
    "    pattern = obtain_change_pattern(sample)\n",
    "    plt.plot(pattern)"
   ]
  },
  {
   "cell_type": "code",
   "execution_count": 85,
   "metadata": {
    "scrolled": false
   },
   "outputs": [
    {
     "data": {
      "text/plain": [
       "[<matplotlib.lines.Line2D at 0x7f257a563910>]"
      ]
     },
     "execution_count": 85,
     "metadata": {},
     "output_type": "execute_result"
    },
    {
     "data": {
      "image/png": "[encoded data removed]",
      "text/plain": [
       "<Figure size 432x288 with 1 Axes>"
      ]
     },
     "metadata": {
      "needs_background": "light"
     },
     "output_type": "display_data"
    }
   ],
   "source": [
    "sample = dataset1[0]\n",
    "\n",
    "fig = plt.figure()\n",
    "# c = obtain_single_antenna_angle_change(sample[0][\"angles\"])\n",
    "\n",
    "plt.plot(sample[0][\"angles\"])\n",
    "plt.plot(sample[0][\"angles2\"])\n",
    "plt.plot(sample[0][\"angles3\"])"
   ]
  },
  {
   "cell_type": "markdown",
   "metadata": {},
   "source": [
    "## Learning"
   ]
  },
  {
   "cell_type": "markdown",
   "metadata": {},
   "source": [
    "## Prediction\n",
    "Use convolution"
   ]
  },
  {
   "cell_type": "code",
   "execution_count": null,
   "metadata": {},
   "outputs": [],
   "source": []
  },
  {
   "cell_type": "code",
   "execution_count": null,
   "metadata": {},
   "outputs": [],
   "source": []
  },
  {
   "cell_type": "code",
   "execution_count": null,
   "metadata": {},
   "outputs": [],
   "source": []
  },
  {
   "cell_type": "code",
   "execution_count": 29,
   "metadata": {
    "colab": {
     "base_uri": "https://localhost:8080/",
     "height": 282
    },
    "id": "O_2WSbSRrhOd",
    "outputId": "1f9c09b4-55da-4613-9511-e503737d4c84",
    "scrolled": true
   },
   "outputs": [],
   "source": [
    "#import matplotlib.pyplot as plt\n",
    "\n",
    "#s = []\n",
    "\n",
    "#sample = samples[0][3][0]\n",
    "#for subcarrier in range(subcarriers):\n",
    "#    s.append(sample[\"angles\"][subcarrier])\n",
    "\n",
    "#plt.plot(s)"
   ]
  }
 ],
 "metadata": {
  "accelerator": "GPU",
  "colab": {
   "collapsed_sections": [],
   "name": "csi-lstm.ipynb",
   "provenance": []
  },
  "kernelspec": {
   "display_name": "csi-cnn-venv",
   "language": "python",
   "name": "csi-cnn-venv"
  },
  "language_info": {
   "codemirror_mode": {
    "name": "ipython",
    "version": 3
   },
   "file_extension": ".py",
   "mimetype": "text/x-python",
   "name": "python",
   "nbconvert_exporter": "python",
   "pygments_lexer": "ipython3",
   "version": "3.9.7"
  }
 },
 "nbformat": 4,
 "nbformat_minor": 1
}
